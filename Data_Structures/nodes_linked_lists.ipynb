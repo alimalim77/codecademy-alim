{
 "cells": [
  {
   "cell_type": "markdown",
   "metadata": {},
   "source": [
    "### Nodes "
   ]
  },
  {
   "cell_type": "markdown",
   "metadata": {},
   "source": [
    "Let's create a Node class!\n",
    "\n",
    "What will it do?\n",
    "\n",
    "- Have a constructure which gets value and link node\n",
    "- Set a pointer to another node\n",
    "- Get our node's link node \n",
    "- Return Node's value"
   ]
  },
  {
   "cell_type": "code",
   "execution_count": 10,
   "metadata": {},
   "outputs": [],
   "source": [
    "class Node():\n",
    "    def __init__(self, value = None, link_node = None):\n",
    "        self.value = value\n",
    "        self.link_node = link_node \n",
    "    \n",
    "    def set_link_node(self, node):\n",
    "        self.link_node = node \n",
    "    \n",
    "    def get_link_node(self):\n",
    "        return self.link_node\n",
    "    \n",
    "    def get_value(self):\n",
    "        return self.value"
   ]
  },
  {
   "cell_type": "code",
   "execution_count": 11,
   "metadata": {},
   "outputs": [],
   "source": [
    "node_a = Node(1)\n",
    "node_b = Node(2)\n",
    "node_c = Node(3)"
   ]
  },
  {
   "cell_type": "code",
   "execution_count": 19,
   "metadata": {},
   "outputs": [],
   "source": [
    "node_a.set_link_node(node_b)"
   ]
  },
  {
   "cell_type": "code",
   "execution_count": 20,
   "metadata": {},
   "outputs": [
    {
     "data": {
      "text/plain": [
       "2"
      ]
     },
     "execution_count": 20,
     "metadata": {},
     "output_type": "execute_result"
    }
   ],
   "source": [
    "node_a.get_link_node().get_value()"
   ]
  },
  {
   "cell_type": "code",
   "execution_count": 21,
   "metadata": {},
   "outputs": [],
   "source": [
    "node_b.set_link_node(node_c)"
   ]
  },
  {
   "cell_type": "code",
   "execution_count": 22,
   "metadata": {},
   "outputs": [
    {
     "data": {
      "text/plain": [
       "3"
      ]
     },
     "execution_count": 22,
     "metadata": {},
     "output_type": "execute_result"
    }
   ],
   "source": [
    "node_b.get_link_node().get_value()"
   ]
  },
  {
   "cell_type": "code",
   "execution_count": 23,
   "metadata": {},
   "outputs": [
    {
     "name": "stdout",
     "output_type": "stream",
     "text": [
      "None\n"
     ]
    }
   ],
   "source": [
    "print(node_c.get_link_node())"
   ]
  },
  {
   "cell_type": "markdown",
   "metadata": {},
   "source": [
    "### Linked Lists "
   ]
  },
  {
   "cell_type": "markdown",
   "metadata": {},
   "source": [
    "Let's Modify our Node class, so it gets easier to create a linked list with. \n",
    "\n",
    "It will just be a constructor that gets a value and create a next node."
   ]
  },
  {
   "cell_type": "markdown",
   "metadata": {},
   "source": [
    "What our linked list class should do:\n",
    "\n",
    "- A constructor that gets value of the head of the list (__init__())\n",
    "\n",
    "\n",
    "- Insert a node in the beginning (insert())\n",
    "\n",
    "\n",
    "- Traverse()\n",
    "\n",
    "\n",
    "- Remove a node (remove_node)\n"
   ]
  },
  {
   "cell_type": "code",
   "execution_count": 24,
   "metadata": {},
   "outputs": [],
   "source": [
    "class Node():\n",
    "    def __init__(self, value=None, next_node = None):\n",
    "        self.value = value \n",
    "        self.next_node = next_node\n"
   ]
  },
  {
   "cell_type": "code",
   "execution_count": 61,
   "metadata": {},
   "outputs": [],
   "source": [
    "class LinkedList():\n",
    "    def __init__(self, value=None):\n",
    "        self.head = Node(value)\n",
    "    \n",
    "    def insert(self, new_value):\n",
    "        new_node = Node(new_value)\n",
    "        new_node.next_node = self.head \n",
    "        self.head = new_node \n",
    "    \n",
    "    def traverse(self):\n",
    "        \n",
    "        res = []\n",
    "        \n",
    "        current = self.head\n",
    "        \n",
    "        while current:\n",
    "            \n",
    "            res.append(current.value)\n",
    "            current = current.next_node\n",
    "            \n",
    "        return res \n",
    "    \n",
    "    def remove(self, value_to_remove):\n",
    "        current_node = self.head\n",
    "        if current_node.value == value_to_remove:\n",
    "        \n",
    "            self.head = current_node.next\n",
    "        else:\n",
    "            while current_node:\n",
    "                next_node = current_node.next_node\n",
    "                if next_node.value == value_to_remove:\n",
    "                    current_node.next_node = next_node.next_node\n",
    "                    current_node = None\n",
    "                else:\n",
    "                    current_node = next_node\n",
    "        "
   ]
  },
  {
   "cell_type": "code",
   "execution_count": 62,
   "metadata": {},
   "outputs": [],
   "source": [
    "lst = LinkedList(1)"
   ]
  },
  {
   "cell_type": "code",
   "execution_count": 63,
   "metadata": {},
   "outputs": [],
   "source": [
    "lst.insert(2)"
   ]
  },
  {
   "cell_type": "code",
   "execution_count": 64,
   "metadata": {},
   "outputs": [],
   "source": [
    "lst.insert(3)"
   ]
  },
  {
   "cell_type": "code",
   "execution_count": 69,
   "metadata": {},
   "outputs": [
    {
     "data": {
      "text/plain": [
       "[3]"
      ]
     },
     "execution_count": 69,
     "metadata": {},
     "output_type": "execute_result"
    }
   ],
   "source": [
    "lst.traverse()"
   ]
  },
  {
   "cell_type": "code",
   "execution_count": 68,
   "metadata": {},
   "outputs": [],
   "source": [
    "lst.remove(2)"
   ]
  },
  {
   "cell_type": "code",
   "execution_count": null,
   "metadata": {},
   "outputs": [],
   "source": []
  },
  {
   "cell_type": "code",
   "execution_count": null,
   "metadata": {},
   "outputs": [],
   "source": []
  }
 ],
 "metadata": {
  "kernelspec": {
   "display_name": "Python 3",
   "language": "python",
   "name": "python3"
  },
  "language_info": {
   "codemirror_mode": {
    "name": "ipython",
    "version": 3
   },
   "file_extension": ".py",
   "mimetype": "text/x-python",
   "name": "python",
   "nbconvert_exporter": "python",
   "pygments_lexer": "ipython3",
   "version": "3.7.3"
  }
 },
 "nbformat": 4,
 "nbformat_minor": 4
}
