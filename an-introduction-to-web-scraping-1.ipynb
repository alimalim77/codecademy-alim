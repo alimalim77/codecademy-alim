{
 "cells": [
  {
   "cell_type": "markdown",
   "id": "5ecf24ff",
   "metadata": {},
   "source": [
    "[Slides](https://docs.google.com/presentation/d/1C1_iUzC6Dhx-NmuMn6ExGXayvlcE94BwIOuZaedousQ/edit#slide=id.g188e56b1afd_0_420)"
   ]
  },
  {
   "cell_type": "markdown",
   "id": "b13ef95e",
   "metadata": {},
   "source": [
    "## Initializing Selenium"
   ]
  },
  {
   "cell_type": "code",
   "execution_count": 2,
   "id": "58662abe",
   "metadata": {},
   "outputs": [],
   "source": [
    "import selenium\n",
    "from selenium import webdriver\n",
    "from selenium.webdriver.common.by import By\n",
    "from selenium.webdriver.common.keys import Keys"
   ]
  },
  {
   "cell_type": "code",
   "execution_count": 3,
   "id": "535fd0a2",
   "metadata": {},
   "outputs": [],
   "source": [
    "url = 'https://en.wikipedia.org/wiki/Game_of_Thrones'\n",
    "driver = webdriver.Chrome()\n",
    "driver.get(url)"
   ]
  },
  {
   "cell_type": "markdown",
   "id": "e9360010",
   "metadata": {},
   "source": [
    "## Getting Elements"
   ]
  },
  {
   "cell_type": "markdown",
   "id": "320b1884",
   "metadata": {},
   "source": [
    "#### By choosing the following classes, we can select elements:"
   ]
  },
  {
   "cell_type": "markdown",
   "id": "dae4a5d1",
   "metadata": {},
   "source": [
    "    ID = \"id\"\n",
    "    NAME = \"name\"\n",
    "    XPATH = \"xpath\"\n",
    "    LINK_TEXT = \"link text\"\n",
    "    PARTIAL_LINK_TEXT = \"partial link text\"\n",
    "    TAG_NAME = \"tag name\"\n",
    "    CLASS_NAME = \"class name\"\n",
    "    CSS_SELECTOR = \"css selector\""
   ]
  },
  {
   "cell_type": "markdown",
   "id": "32e294ee",
   "metadata": {},
   "source": [
    "#### The ‘By’ class is used to specify which attribute is used to locate elements on a page. These are the various ways the attributes are used to locate elements on a page:"
   ]
  },
  {
   "cell_type": "markdown",
   "id": "e3e972b9",
   "metadata": {},
   "source": [
    "- find_element(By.ID, \"id\")\n",
    "- find_element(By.NAME, \"name\")\n",
    "- find_element(By.XPATH, \"xpath\")\n",
    "- find_element(By.LINK_TEXT, \"link text\")\n",
    "- find_element(By.PARTIAL_LINK_TEXT, \"partial link text\")\n",
    "- find_element(By.TAG_NAME, \"tag name\")\n",
    "- find_element(By.CLASS_NAME, \"class name\")\n",
    "- find_element(By.CSS_SELECTOR, \"css selector\")"
   ]
  },
  {
   "cell_type": "markdown",
   "id": "cee2b296",
   "metadata": {},
   "source": [
    "#### Let's get the name of the page we're at"
   ]
  },
  {
   "cell_type": "code",
   "execution_count": null,
   "id": "41838e07",
   "metadata": {},
   "outputs": [],
   "source": [
    "url = 'https://en.wikipedia.org/wiki/Game_of_Thrones'\n",
    "driver = webdriver.Chrome()\n",
    "driver.get(url)\n",
    "#getting h1\n",
    "heading1 = driver.find_element(By.TAG_NAME, 'h1')"
   ]
  },
  {
   "cell_type": "code",
   "execution_count": null,
   "id": "107b995e",
   "metadata": {},
   "outputs": [],
   "source": [
    "heading1.text"
   ]
  },
  {
   "cell_type": "markdown",
   "id": "765d271e",
   "metadata": {},
   "source": [
    "#### Let's get the H3 tags"
   ]
  },
  {
   "cell_type": "code",
   "execution_count": null,
   "id": "7c3186b7",
   "metadata": {},
   "outputs": [],
   "source": [
    "url = 'https://en.wikipedia.org/wiki/Game_of_Thrones'\n",
    "driver = webdriver.Chrome()\n",
    "driver.get(url)\n",
    "#getting h3 \n",
    "heading3 = driver.find_elements(By.TAG_NAME, 'h3')"
   ]
  },
  {
   "cell_type": "code",
   "execution_count": null,
   "id": "289eb7a6",
   "metadata": {},
   "outputs": [],
   "source": [
    "for heading in heading3:\n",
    "    print(heading.text)"
   ]
  },
  {
   "cell_type": "markdown",
   "id": "bc87c459",
   "metadata": {},
   "source": [
    "#### Your challenge"
   ]
  },
  {
   "cell_type": "markdown",
   "id": "24caacbf",
   "metadata": {},
   "source": [
    "Select all the text paragraphs"
   ]
  },
  {
   "cell_type": "code",
   "execution_count": null,
   "id": "95e5933d",
   "metadata": {},
   "outputs": [],
   "source": [
    "#YOUR CODE"
   ]
  },
  {
   "cell_type": "markdown",
   "id": "f7394de5",
   "metadata": {},
   "source": [
    "### Selecting Images "
   ]
  },
  {
   "cell_type": "code",
   "execution_count": null,
   "id": "a0fabad0",
   "metadata": {},
   "outputs": [],
   "source": [
    "from selenium import webdriver\n",
    "import requests\n",
    "\n",
    "# Set the URL of the web page containing the images\n",
    "url = \"https://en.wikipedia.org/wiki/Game_of_Thrones\"\n",
    "\n",
    "# Open the web page using Selenium\n",
    "driver = webdriver.Chrome()\n",
    "driver.get(url)\n",
    "\n",
    "# Find all img elements on the page\n",
    "img_elements = driver.find_elements_by_tag_name(\"img\")\n",
    "\n",
    "# Loop through the img elements and download the images\n",
    "for i, img_element in enumerate(img_elements):\n",
    "    # Extract the src attribute containing the URL of the image\n",
    "    img_url = img_element.get_attribute(\"src\")\n",
    "    \n",
    "    # Download the image using the requests library\n",
    "    response = requests.get(img_url)\n",
    "    \n",
    "    # Save the image to your local system\n",
    "    with open(f\"image_{i}.png\", \"wb\") as f:\n",
    "        f.write(response.content)\n",
    "\n",
    "# Close the web driver\n",
    "driver.close()\n"
   ]
  },
  {
   "cell_type": "markdown",
   "id": "c5bc9be9",
   "metadata": {},
   "source": [
    "### Clicking on a button, sending keys "
   ]
  },
  {
   "cell_type": "code",
   "execution_count": 14,
   "id": "595cbcc8",
   "metadata": {},
   "outputs": [],
   "source": [
    "from selenium import webdriver\n",
    "\n",
    "search_query = \"selenium automation\"\n",
    "\n",
    "# Open the browser and go to Google\n",
    "browser = webdriver.Chrome()\n",
    "browser.get(\"https://www.google.com\")\n",
    "\n",
    "# Enter the search query in the search box and press the search button\n",
    "search_box = browser.find_element(By.NAME,\"q\")\n",
    "#Sending the query\n",
    "search_box.send_keys(search_query)\n",
    "#sending the key ENTER \n",
    "search_box.send_keys(Keys.ENTER)"
   ]
  },
  {
   "cell_type": "markdown",
   "id": "978eaf1d",
   "metadata": {},
   "source": [
    "#### Your challenge "
   ]
  },
  {
   "cell_type": "markdown",
   "id": "837c979d",
   "metadata": {},
   "source": [
    "Select the search button in main page of wikipedia and search something!"
   ]
  },
  {
   "cell_type": "code",
   "execution_count": null,
   "id": "faeca7f6",
   "metadata": {},
   "outputs": [],
   "source": [
    "#YOUR CODE"
   ]
  }
 ],
 "metadata": {
  "kernelspec": {
   "display_name": "Python 3 (ipykernel)",
   "language": "python",
   "name": "python3"
  },
  "language_info": {
   "codemirror_mode": {
    "name": "ipython",
    "version": 3
   },
   "file_extension": ".py",
   "mimetype": "text/x-python",
   "name": "python",
   "nbconvert_exporter": "python",
   "pygments_lexer": "ipython3",
   "version": "3.9.13"
  }
 },
 "nbformat": 4,
 "nbformat_minor": 5
}
